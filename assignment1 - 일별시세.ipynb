{
 "cells": [
  {
   "cell_type": "code",
   "execution_count": 92,
   "metadata": {},
   "outputs": [],
   "source": [
    "from bs4 import BeautifulSoup"
   ]
  },
  {
   "cell_type": "code",
   "execution_count": 105,
   "metadata": {},
   "outputs": [],
   "source": [
    "from datetime import date, timedelta, datetime"
   ]
  },
  {
   "cell_type": "code",
   "execution_count": 106,
   "metadata": {},
   "outputs": [],
   "source": [
    "import requests\n",
    "from fake_useragent import UserAgent"
   ]
  },
  {
   "cell_type": "code",
   "execution_count": 107,
   "metadata": {},
   "outputs": [],
   "source": [
    "page = 'https://finance.naver.com/item/sise_day.naver?code='+'004020'"
   ]
  },
  {
   "cell_type": "code",
   "execution_count": 108,
   "metadata": {},
   "outputs": [],
   "source": [
    "headers = {'User-Agent':UserAgent().random}"
   ]
  },
  {
   "cell_type": "code",
   "execution_count": 109,
   "metadata": {},
   "outputs": [
    {
     "data": {
      "text/plain": [
       "{'User-Agent': 'Mozilla/5.0 (Macintosh; Intel Mac OS X 10_8_2) AppleWebKit/537.17 (KHTML, like Gecko) Chrome/24.0.1309.0 Safari/537.17'}"
      ]
     },
     "execution_count": 109,
     "metadata": {},
     "output_type": "execute_result"
    }
   ],
   "source": [
    "headers"
   ]
  },
  {
   "cell_type": "code",
   "execution_count": 156,
   "metadata": {},
   "outputs": [],
   "source": [
    "src_soup = BeautifulSoup(requests.get(page,headers=headers).text, 'lxml')"
   ]
  },
  {
   "cell_type": "code",
   "execution_count": 175,
   "metadata": {},
   "outputs": [],
   "source": [
    "hist_soup = src_soup.find('table').find_all('tr')[:-1]"
   ]
  },
  {
   "cell_type": "code",
   "execution_count": 176,
   "metadata": {},
   "outputs": [
    {
     "data": {
      "text/plain": [
       "15"
      ]
     },
     "execution_count": 176,
     "metadata": {},
     "output_type": "execute_result"
    }
   ],
   "source": [
    "len(hist_soup)\n",
    "# hist_table = hist_soup.text.strip().replace('\\n\\n\\n\\t\\t\\t',' ').replace('\\n\\n\\n\\n\\n\\n').replace('\\n\\n\\n')"
   ]
  },
  {
   "cell_type": "code",
   "execution_count": 178,
   "metadata": {
    "scrolled": true
   },
   "outputs": [
    {
     "data": {
      "text/plain": [
       "<tr>\n",
       "<th>날짜</th>\n",
       "<th>종가</th>\n",
       "<th>전일비</th>\n",
       "<th>시가</th>\n",
       "<th>고가</th>\n",
       "<th>저가</th>\n",
       "<th>거래량</th>\n",
       "</tr>"
      ]
     },
     "execution_count": 178,
     "metadata": {},
     "output_type": "execute_result"
    }
   ],
   "source": [
    "hist_soup[0]"
   ]
  },
  {
   "cell_type": "code",
   "execution_count": 179,
   "metadata": {},
   "outputs": [],
   "source": [
    "df_list = []"
   ]
  },
  {
   "cell_type": "code",
   "execution_count": 187,
   "metadata": {},
   "outputs": [],
   "source": [
    "df_list.append([th.text for th in hist_soup[0].find_all('th')])"
   ]
  },
  {
   "cell_type": "code",
   "execution_count": 188,
   "metadata": {},
   "outputs": [
    {
     "data": {
      "text/plain": [
       "[['날짜', '종가', '전일비', '시가', '고가', '저가', '거래량']]"
      ]
     },
     "execution_count": 188,
     "metadata": {},
     "output_type": "execute_result"
    }
   ],
   "source": [
    "df_list"
   ]
  },
  {
   "cell_type": "code",
   "execution_count": 197,
   "metadata": {},
   "outputs": [],
   "source": [
    "hist_soup = [soup for idx, soup in enumerate(hist_soup) if idx != 1]\n",
    "\n",
    "\n",
    "for idx, soup in enumerate(hist_soup):\n",
    "    if idx != 1:\n",
    "        [].append(soup)"
   ]
  },
  {
   "cell_type": "code",
   "execution_count": 201,
   "metadata": {},
   "outputs": [],
   "source": [
    "hist_soup = src_soup.find('table').find_all('tr')[:-1]"
   ]
  },
  {
   "cell_type": "code",
   "execution_count": 206,
   "metadata": {},
   "outputs": [
    {
     "name": "stdout",
     "output_type": "stream",
     "text": [
      "[]\n",
      "['2021.12.29', '41,100', '\\n\\t\\t\\t\\t900\\n\\t\\t\\t\\t', '41,550', '41,550', '40,600', '147,071']\n",
      "['2021.12.28', '42,000', '\\n\\t\\t\\t\\t50\\n\\t\\t\\t\\t', '42,250', '42,250', '41,400', '456,207']\n",
      "['2021.12.27', '41,950', '\\n\\t\\t\\t\\t650\\n\\t\\t\\t\\t', '42,800', '42,950', '41,850', '344,047']\n",
      "['2021.12.24', '42,600', '\\n\\t\\t\\t\\t200\\n\\t\\t\\t\\t', '42,500', '42,950', '42,300', '299,303']\n",
      "['2021.12.23', '42,400', '\\n\\t\\t\\t\\t50\\n\\t\\t\\t\\t', '42,550', '43,000', '42,150', '289,610']\n",
      "[]\n",
      "[]\n",
      "[]\n",
      "['2021.12.22', '42,350', '\\n\\t\\t\\t\\t250\\n\\t\\t\\t\\t', '42,800', '43,000', '42,250', '330,662']\n",
      "['2021.12.21', '42,600', '\\n\\t\\t\\t\\t50\\n\\t\\t\\t\\t', '42,700', '43,200', '42,350', '349,036']\n",
      "['2021.12.20', '42,550', '\\n\\t\\t\\t\\t1,700\\n\\t\\t\\t\\t', '44,050', '44,050', '42,450', '632,964']\n",
      "['2021.12.17', '44,250', '\\n\\t\\t\\t\\t1,350\\n\\t\\t\\t\\t', '42,600', '44,700', '42,500', '972,415']\n",
      "['2021.12.16', '42,900', '\\n\\t\\t\\t\\t150\\n\\t\\t\\t\\t', '42,950', '43,000', '42,150', '398,783']\n"
     ]
    }
   ],
   "source": [
    "for soup in hist_soup[1:]:\n",
    "    print([span.text for span in soup.find_all('span')])"
   ]
  },
  {
   "cell_type": "code",
   "execution_count": null,
   "metadata": {},
   "outputs": [],
   "source": []
  }
 ],
 "metadata": {
  "kernelspec": {
   "display_name": "Python 3",
   "language": "python",
   "name": "python3"
  },
  "language_info": {
   "codemirror_mode": {
    "name": "ipython",
    "version": 3
   },
   "file_extension": ".py",
   "mimetype": "text/x-python",
   "name": "python",
   "nbconvert_exporter": "python",
   "pygments_lexer": "ipython3",
   "version": "3.7.9"
  }
 },
 "nbformat": 4,
 "nbformat_minor": 4
}
