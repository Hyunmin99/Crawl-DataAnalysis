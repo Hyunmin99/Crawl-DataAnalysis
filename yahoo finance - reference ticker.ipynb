{
 "cells": [
  {
   "cell_type": "code",
   "execution_count": 57,
   "metadata": {},
   "outputs": [],
   "source": [
    "from bs4 import BeautifulSoup\n",
    "import requests\n",
    "from fake_useragent import UserAgent\n",
    "import pandas as pd\n",
    "import numpy as np"
   ]
  },
  {
   "cell_type": "code",
   "execution_count": 58,
   "metadata": {
    "scrolled": false
   },
   "outputs": [
    {
     "name": "stdout",
     "output_type": "stream",
     "text": [
      "['TAP', 'TAP-A', 'STZ', 'STZ-B', 'BUD', 'BUDFF']\n"
     ]
    }
   ],
   "source": [
    "page = 'https://finance.yahoo.com/news/why-dallas-cowboys-hall-of-fame-qb-troy-aikman-is-taking-on-big-beer-140044732.html'\n",
    "headers = {'User-Agent':UserAgent().random}\n",
    "\n",
    "src_soup = BeautifulSoup(requests.get(page,headers=headers).text, 'lxml')\n",
    "# src_soup = src_soup.find('ul', attrs={'class':'caas-xray-pills xray-as-popup caas-xray-pills-top'})\n",
    "list_soup = []\n",
    "for soup in src_soup.find_all('button',attrs={'data-entity-type':'ticker'}):\n",
    "    list_soup.append(soup.text)\n",
    "print(list_soup)"
   ]
  },
  {
   "cell_type": "code",
   "execution_count": null,
   "metadata": {},
   "outputs": [],
   "source": []
  }
 ],
 "metadata": {
  "kernelspec": {
   "display_name": "Python 3",
   "language": "python",
   "name": "python3"
  },
  "language_info": {
   "codemirror_mode": {
    "name": "ipython",
    "version": 3
   },
   "file_extension": ".py",
   "mimetype": "text/x-python",
   "name": "python",
   "nbconvert_exporter": "python",
   "pygments_lexer": "ipython3",
   "version": "3.7.9"
  }
 },
 "nbformat": 4,
 "nbformat_minor": 4
}
