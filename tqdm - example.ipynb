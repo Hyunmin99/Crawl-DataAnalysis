{
 "cells": [
  {
   "cell_type": "code",
   "execution_count": 34,
   "metadata": {},
   "outputs": [],
   "source": [
    "from tqdm import tqdm, trange, tnrange, tqdm_notebook\n",
    "import pandas as pd\n",
    "import time"
   ]
  },
  {
   "cell_type": "code",
   "execution_count": 5,
   "metadata": {},
   "outputs": [],
   "source": [
    "samples = pd.DataFrame({'idx':[i for i in range(1,100)],'val':[f'text_{i}' for i in range(1,100)]})"
   ]
  },
  {
   "cell_type": "code",
   "execution_count": 39,
   "metadata": {},
   "outputs": [
    {
     "name": "stderr",
     "output_type": "stream",
     "text": [
      "\n",
      "1st loop:   0%|                                                                                  | 0/4 [00:00<?, ?it/s]\u001b[A\n",
      "\n",
      "2nd loop:   0%|                                                                                  | 0/5 [00:00<?, ?it/s]\u001b[A\u001b[A\n",
      "\n",
      "                                                                                                                       \u001b[A\u001b[A\n",
      "\n",
      "2nd loop:   0%|                                                                                  | 0/5 [00:00<?, ?it/s]\u001b[A\u001b[A\n",
      "\n",
      "                                                                                                                       \u001b[A\u001b[A\n",
      "1st loop:  50%|█████████████████████████████████████                                     | 2/4 [00:00<00:00, 12.52it/s]\u001b[A\n",
      "\n",
      "2nd loop:   0%|                                                                                  | 0/5 [00:00<?, ?it/s]\u001b[A\u001b[A\n",
      "\n",
      "                                                                                                                       \u001b[A\u001b[A\n",
      "\n",
      "2nd loop:   0%|                                                                                  | 0/5 [00:00<?, ?it/s]\u001b[A\u001b[A\n",
      "\n",
      "                                                                                                                       \u001b[A\u001b[A\n",
      "1st loop: 100%|██████████████████████████████████████████████████████████████████████████| 4/4 [00:00<00:00, 11.95it/s]\u001b[A\n"
     ]
    }
   ],
   "source": [
    "for i in tnrange(4, desc='1st loop'):\n",
    "    for j in tnrange(5, desc='2nd loop',leave=False):\n",
    "        for k in tnrange(50, desc='3rd loop',leave=False):\n",
    "            time.sleep(0.005)"
   ]
  },
  {
   "cell_type": "code",
   "execution_count": 21,
   "metadata": {},
   "outputs": [
    {
     "name": "stderr",
     "output_type": "stream",
     "text": [
      "\n",
      "  0%|                                                                                            | 0/2 [00:00<?, ?it/s]\u001b[A\n",
      " 50%|██████████████████████████████████████████                                          | 1/2 [00:00<00:00,  9.21it/s]\u001b[A\n",
      "100%|████████████████████████████████████████████████████████████████████████████████████| 2/2 [00:00<00:00,  8.95it/s]\u001b[A\n",
      "\n",
      "  0%|                                                                                            | 0/2 [00:00<?, ?it/s]\u001b[A\n",
      " 50%|██████████████████████████████████████████                                          | 1/2 [00:00<00:00,  8.81it/s]\u001b[A\n",
      "100%|████████████████████████████████████████████████████████████████████████████████████| 2/2 [00:00<00:00,  8.94it/s]\u001b[A\n"
     ]
    }
   ],
   "source": []
  },
  {
   "cell_type": "code",
   "execution_count": null,
   "metadata": {},
   "outputs": [],
   "source": []
  }
 ],
 "metadata": {
  "kernelspec": {
   "display_name": "Python 3",
   "language": "python",
   "name": "python3"
  },
  "language_info": {
   "codemirror_mode": {
    "name": "ipython",
    "version": 3
   },
   "file_extension": ".py",
   "mimetype": "text/x-python",
   "name": "python",
   "nbconvert_exporter": "python",
   "pygments_lexer": "ipython3",
   "version": "3.7.9"
  }
 },
 "nbformat": 4,
 "nbformat_minor": 4
}
