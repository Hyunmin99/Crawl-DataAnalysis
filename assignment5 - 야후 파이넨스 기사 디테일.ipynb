{
 "cells": [
  {
   "cell_type": "code",
   "execution_count": 24,
   "metadata": {},
   "outputs": [],
   "source": [
    "from bs4 import BeautifulSoup\n",
    "from datetime import date, timedelta, datetime\n",
    "from fake_useragent import UserAgent\n",
    "import requests\n",
    "import pandas as pd"
   ]
  },
  {
   "cell_type": "code",
   "execution_count": 36,
   "metadata": {},
   "outputs": [],
   "source": [
    "page = ('https://finance.yahoo.com/news/stock-market-news-live-updates-december-30-2021-234405035.html')\n",
    "headers = {'User-Agent':UserAgent().random}\n",
    "src_soup = BeautifulSoup(requests.get(page, headers=headers).text, 'lxml')"
   ]
  },
  {
   "cell_type": "code",
   "execution_count": 55,
   "metadata": {},
   "outputs": [],
   "source": [
    "article_list = []\n",
    "article_detail = []"
   ]
  },
  {
   "cell_type": "code",
   "execution_count": 56,
   "metadata": {},
   "outputs": [],
   "source": [
    "#title insert\n",
    "article_detail.append(src_soup.find('h1', attrs = {'data-test-locator':'headline'}).text)\n",
    "\n",
    "#newspaper insert\n",
    "article_detail.append(src_soup.select_one('img.caas-img')['alt'])\n",
    "\n",
    "#date insert\n",
    "article_detail.append(src_soup.select_one('time')['datetime'])\n",
    "\n",
    "#article contents insert\n",
    "article_contents = src_soup.find('div', attrs = {'class':'caas-body'}).text\n",
    "article_contents = article_contents[:article_contents.rfind('—')]\n",
    "article_detail.append(article_contents)"
   ]
  },
  {
   "cell_type": "code",
   "execution_count": 57,
   "metadata": {},
   "outputs": [
    {
     "data": {
      "text/plain": [
       "['Stock market news live updates: Stock futures open flat after S&P, Dow set fresh records',\n",
       " 'Yahoo Finance',\n",
       " '2021-12-29T23:44:05.000Z',\n",
       " 'U.S. stock futures were muted headed into overnight trading on Wednesday after the S&P 500 and Dow each extended a rally to close at all-time highs amid a thinly-traded last week of 2021 on Wall Street.Contracts on the Dow, S&P, and Nasdaq were mostly unchanged.\\xa0Intraday market swings were exaggerated by the low trading volumes. Economic and earnings calendars remain light for the final two trading days of the year, though investors will turn their attention on Thursday to fresh data out of Washington on weekly jobless claims.First-time unemployment filings are expected to tick up slightly from last week’s reading but remain near pre-pandemic lows, signaling continued recovery in the labor market as high demand for workers pours into the new year.Biogen Inc. (BIIB) was in the spotlight on Wednesday after shares of the drugmaker surged during intraday trading following reports that South Korea’s Samsung Group is in talks to acquire the company. A report from the Korea Economic Daily that cited investment banking sources said Biogen approached Samsung to buy its shares in a deal that could be valued at more than $42 billion.Biogen’s stock closed up 9.46% to $258.31 per share.Despite a good day for markets, airline stocks continued to falter amid further flight disruptions caused by rising COVID-19 cases and winter weather. Delta Air Lines (DAL) reported cancellations of an additional 250 flights on Wednesday after thousands of halted and delayed flights by major airlines reported during the Christmas weekend.Delta ended trading -1.19% down to $39.16 and American Airlines (AAL) closed down 2.64% to $18.05 per share. United Airlines (UAL) saw the session end 1.86% lower at $44.3,“It’s a controlled meltdown, put it that way,” Boyd Group International president Mike Boyd told Yahoo Finance. Airlines “know where they’re going to be short pretty much ahead of time, and then they have to adjust for it.”Markets continue to weight rising COVID-19 case, which hit a global record earlier this week. Infections from the highly-transmissible Omicron variant — found to spread 70 times faster than previous strains — comprised much of the newly tracked positive tests, though studies indicate illness caused by the strain is less likely to be severe or lead to hospitalizations.Story continuesDecember was a volatile month for investors who weighed the strain’s impact on the economy, but recent developments that indicate Omicron may cause milder disease helped markets shake off earlier concerns.“Perversely, bad news around Omicron might be good news for the markets because it gives the Fed the impetus to continue with these very loose monetary policies,” Opimas LLC Chief Executive Officer Octavio Marenzi told Yahoo Finance Live. “Too much good news for the real economy might actually be quite bad for the markets.”6:01 p.m. ET: Contracts on the S&P, Dow, and Nasdaq open sidewaysS&P 500 futures (ES=F): +0.50 points (+0.01%), to 4,785.00Dow futures (YM=F): +3.00 (+0.01%), to 36,384.00Nasdaq futures (NQ=F): -0.25 points (0.00%) to 16,490.25']"
      ]
     },
     "execution_count": 57,
     "metadata": {},
     "output_type": "execute_result"
    }
   ],
   "source": [
    "article_detail"
   ]
  },
  {
   "cell_type": "code",
   "execution_count": 58,
   "metadata": {},
   "outputs": [],
   "source": [
    "date_trans = datetime.strptime(article_detail[2], '%Y-%m-%dT%H:%M:%S.000Z')\n",
    "article_detail[2] = datetime.strftime(date_trans,'%Y%m%d %H%M%S')"
   ]
  },
  {
   "cell_type": "code",
   "execution_count": 59,
   "metadata": {},
   "outputs": [],
   "source": [
    "article_list.append(article_detail)"
   ]
  },
  {
   "cell_type": "code",
   "execution_count": 62,
   "metadata": {},
   "outputs": [],
   "source": [
    "df = pd.DataFrame(article_list, columns = ['Title', 'Provider', 'Date', 'Contetns'])"
   ]
  },
  {
   "cell_type": "code",
   "execution_count": 63,
   "metadata": {},
   "outputs": [
    {
     "data": {
      "text/html": [
       "<div>\n",
       "<style scoped>\n",
       "    .dataframe tbody tr th:only-of-type {\n",
       "        vertical-align: middle;\n",
       "    }\n",
       "\n",
       "    .dataframe tbody tr th {\n",
       "        vertical-align: top;\n",
       "    }\n",
       "\n",
       "    .dataframe thead th {\n",
       "        text-align: right;\n",
       "    }\n",
       "</style>\n",
       "<table border=\"1\" class=\"dataframe\">\n",
       "  <thead>\n",
       "    <tr style=\"text-align: right;\">\n",
       "      <th></th>\n",
       "      <th>Title</th>\n",
       "      <th>Provider</th>\n",
       "      <th>Date</th>\n",
       "      <th>Contetns</th>\n",
       "    </tr>\n",
       "  </thead>\n",
       "  <tbody>\n",
       "    <tr>\n",
       "      <th>0</th>\n",
       "      <td>Stock market news live updates: Stock futures ...</td>\n",
       "      <td>Yahoo Finance</td>\n",
       "      <td>20211229 234405</td>\n",
       "      <td>U.S. stock futures were muted headed into over...</td>\n",
       "    </tr>\n",
       "  </tbody>\n",
       "</table>\n",
       "</div>"
      ],
      "text/plain": [
       "                                               Title       Provider  \\\n",
       "0  Stock market news live updates: Stock futures ...  Yahoo Finance   \n",
       "\n",
       "              Date                                           Contetns  \n",
       "0  20211229 234405  U.S. stock futures were muted headed into over...  "
      ]
     },
     "execution_count": 63,
     "metadata": {},
     "output_type": "execute_result"
    }
   ],
   "source": [
    "df"
   ]
  },
  {
   "cell_type": "code",
   "execution_count": null,
   "metadata": {},
   "outputs": [],
   "source": []
  }
 ],
 "metadata": {
  "kernelspec": {
   "display_name": "Python 3",
   "language": "python",
   "name": "python3"
  },
  "language_info": {
   "codemirror_mode": {
    "name": "ipython",
    "version": 3
   },
   "file_extension": ".py",
   "mimetype": "text/x-python",
   "name": "python",
   "nbconvert_exporter": "python",
   "pygments_lexer": "ipython3",
   "version": "3.7.9"
  }
 },
 "nbformat": 4,
 "nbformat_minor": 4
}
