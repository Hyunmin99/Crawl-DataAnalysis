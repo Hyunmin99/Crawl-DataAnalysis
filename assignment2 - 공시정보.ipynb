{
 "cells": [
  {
   "cell_type": "code",
   "execution_count": 102,
   "metadata": {},
   "outputs": [],
   "source": [
    "from bs4 import BeautifulSoup\n",
    "from datetime import date, timedelta, datetime\n",
    "from fake_useragent import UserAgent\n",
    "import requests\n",
    "import pandas as pd"
   ]
  },
  {
   "cell_type": "code",
   "execution_count": 103,
   "metadata": {},
   "outputs": [],
   "source": [
    "#index = ['Full-Name', 'Source', 'Ticker']\n",
    "#ticker_info = {0: ['현대 제철', 'Naver', '004020']}\n",
    "#remote_path = {'Naver':'https://finance.naver.com/item/news_notice.naver?code='}"
   ]
  },
  {
   "cell_type": "code",
   "execution_count": 104,
   "metadata": {},
   "outputs": [],
   "source": [
    "page = 'https://finance.naver.com/item/news_notice.naver?code=' + '004020'\n",
    "headers = {'User-Agent':UserAgent().random}\n",
    "src_soup = BeautifulSoup(requests.get(page, headers=headers).text, 'lxml')"
   ]
  },
  {
   "cell_type": "code",
   "execution_count": 105,
   "metadata": {
    "scrolled": true
   },
   "outputs": [],
   "source": [
    "hist_soup = src_soup.find_all('tr')"
   ]
  },
  {
   "cell_type": "code",
   "execution_count": 106,
   "metadata": {},
   "outputs": [],
   "source": [
    "title_soup = hist_soup[0]\n",
    "hist_soup = hist_soup[1:]"
   ]
  },
  {
   "cell_type": "code",
   "execution_count": 107,
   "metadata": {},
   "outputs": [],
   "source": [
    "df_title = [] #title\n",
    "df_list = [] #list"
   ]
  },
  {
   "cell_type": "code",
   "execution_count": 108,
   "metadata": {},
   "outputs": [],
   "source": [
    "df_title.append([th.text for th in title_soup.find_all('th')])\n",
    "for i in range(0, len(hist_soup)):\n",
    "    df_list.append([td.text for td in hist_soup[i].find_all('td')])"
   ]
  },
  {
   "cell_type": "code",
   "execution_count": 109,
   "metadata": {},
   "outputs": [
    {
     "data": {
      "text/plain": [
       "[['제목', '정보제공', '날짜']]"
      ]
     },
     "execution_count": 109,
     "metadata": {},
     "output_type": "execute_result"
    }
   ],
   "source": [
    "df_title"
   ]
  },
  {
   "cell_type": "code",
   "execution_count": 110,
   "metadata": {},
   "outputs": [
    {
     "data": {
      "text/plain": [
       "[['현대제철(주) 주주명부폐쇄기간 또는 기준일 설정', 'KOSCOM', '2021.12.16'],\n",
       " ['현대제철(주) 기업설명회(IR) 개최(안내공시)', 'KOSCOM', '2021.11.30'],\n",
       " ['현대제철(주) 기업설명회(IR) 개최(안내공시)', 'KOSCOM', '2021.11.05'],\n",
       " ['현대제철(주) 영업(잠정)실적(공정공시)', 'KOSCOM', '2021.10.28'],\n",
       " ['현대제철(주) 연결재무제표기준영업(잠정)실적(공정공시)', 'KOSCOM', '2021.10.28'],\n",
       " ['현대제철(주) 생산중단', 'KOSCOM', '2021.10.20'],\n",
       " ['현대제철(주) 기업설명회(IR) 개최(안내공시)', 'KOSCOM', '2021.10.19'],\n",
       " ['현대제철(주) 기업설명회(IR) 개최(안내공시)', 'KOSCOM', '2021.10.19'],\n",
       " ['현대제철(주) 기업설명회(IR) 개최(안내공시)', 'KOSCOM', '2021.09.02'],\n",
       " ['현대제철(주) 기업설명회(IR) 개최(안내공시)', 'KOSCOM', '2021.08.10']]"
      ]
     },
     "execution_count": 110,
     "metadata": {},
     "output_type": "execute_result"
    }
   ],
   "source": [
    "df_list"
   ]
  },
  {
   "cell_type": "code",
   "execution_count": 111,
   "metadata": {},
   "outputs": [],
   "source": [
    "df = pd.DataFrame(df_list, columns = df_title)"
   ]
  },
  {
   "cell_type": "code",
   "execution_count": 112,
   "metadata": {},
   "outputs": [
    {
     "data": {
      "text/html": [
       "<div>\n",
       "<style scoped>\n",
       "    .dataframe tbody tr th:only-of-type {\n",
       "        vertical-align: middle;\n",
       "    }\n",
       "\n",
       "    .dataframe tbody tr th {\n",
       "        vertical-align: top;\n",
       "    }\n",
       "\n",
       "    .dataframe thead tr th {\n",
       "        text-align: left;\n",
       "    }\n",
       "</style>\n",
       "<table border=\"1\" class=\"dataframe\">\n",
       "  <thead>\n",
       "    <tr>\n",
       "      <th></th>\n",
       "      <th>제목</th>\n",
       "      <th>정보제공</th>\n",
       "      <th>날짜</th>\n",
       "    </tr>\n",
       "  </thead>\n",
       "  <tbody>\n",
       "    <tr>\n",
       "      <th>0</th>\n",
       "      <td>현대제철(주) 주주명부폐쇄기간 또는 기준일 설정</td>\n",
       "      <td>KOSCOM</td>\n",
       "      <td>2021.12.16</td>\n",
       "    </tr>\n",
       "    <tr>\n",
       "      <th>1</th>\n",
       "      <td>현대제철(주) 기업설명회(IR) 개최(안내공시)</td>\n",
       "      <td>KOSCOM</td>\n",
       "      <td>2021.11.30</td>\n",
       "    </tr>\n",
       "    <tr>\n",
       "      <th>2</th>\n",
       "      <td>현대제철(주) 기업설명회(IR) 개최(안내공시)</td>\n",
       "      <td>KOSCOM</td>\n",
       "      <td>2021.11.05</td>\n",
       "    </tr>\n",
       "    <tr>\n",
       "      <th>3</th>\n",
       "      <td>현대제철(주) 영업(잠정)실적(공정공시)</td>\n",
       "      <td>KOSCOM</td>\n",
       "      <td>2021.10.28</td>\n",
       "    </tr>\n",
       "    <tr>\n",
       "      <th>4</th>\n",
       "      <td>현대제철(주) 연결재무제표기준영업(잠정)실적(공정공시)</td>\n",
       "      <td>KOSCOM</td>\n",
       "      <td>2021.10.28</td>\n",
       "    </tr>\n",
       "    <tr>\n",
       "      <th>5</th>\n",
       "      <td>현대제철(주) 생산중단</td>\n",
       "      <td>KOSCOM</td>\n",
       "      <td>2021.10.20</td>\n",
       "    </tr>\n",
       "    <tr>\n",
       "      <th>6</th>\n",
       "      <td>현대제철(주) 기업설명회(IR) 개최(안내공시)</td>\n",
       "      <td>KOSCOM</td>\n",
       "      <td>2021.10.19</td>\n",
       "    </tr>\n",
       "    <tr>\n",
       "      <th>7</th>\n",
       "      <td>현대제철(주) 기업설명회(IR) 개최(안내공시)</td>\n",
       "      <td>KOSCOM</td>\n",
       "      <td>2021.10.19</td>\n",
       "    </tr>\n",
       "    <tr>\n",
       "      <th>8</th>\n",
       "      <td>현대제철(주) 기업설명회(IR) 개최(안내공시)</td>\n",
       "      <td>KOSCOM</td>\n",
       "      <td>2021.09.02</td>\n",
       "    </tr>\n",
       "    <tr>\n",
       "      <th>9</th>\n",
       "      <td>현대제철(주) 기업설명회(IR) 개최(안내공시)</td>\n",
       "      <td>KOSCOM</td>\n",
       "      <td>2021.08.10</td>\n",
       "    </tr>\n",
       "  </tbody>\n",
       "</table>\n",
       "</div>"
      ],
      "text/plain": [
       "                               제목    정보제공          날짜\n",
       "0      현대제철(주) 주주명부폐쇄기간 또는 기준일 설정  KOSCOM  2021.12.16\n",
       "1      현대제철(주) 기업설명회(IR) 개최(안내공시)  KOSCOM  2021.11.30\n",
       "2      현대제철(주) 기업설명회(IR) 개최(안내공시)  KOSCOM  2021.11.05\n",
       "3          현대제철(주) 영업(잠정)실적(공정공시)  KOSCOM  2021.10.28\n",
       "4  현대제철(주) 연결재무제표기준영업(잠정)실적(공정공시)  KOSCOM  2021.10.28\n",
       "5                    현대제철(주) 생산중단  KOSCOM  2021.10.20\n",
       "6      현대제철(주) 기업설명회(IR) 개최(안내공시)  KOSCOM  2021.10.19\n",
       "7      현대제철(주) 기업설명회(IR) 개최(안내공시)  KOSCOM  2021.10.19\n",
       "8      현대제철(주) 기업설명회(IR) 개최(안내공시)  KOSCOM  2021.09.02\n",
       "9      현대제철(주) 기업설명회(IR) 개최(안내공시)  KOSCOM  2021.08.10"
      ]
     },
     "execution_count": 112,
     "metadata": {},
     "output_type": "execute_result"
    }
   ],
   "source": [
    "df"
   ]
  },
  {
   "cell_type": "code",
   "execution_count": 113,
   "metadata": {},
   "outputs": [],
   "source": [
    "#1번째 시도!! : 리스트의 값을 replace해서 다시 데이터 프레임 만들기! \n",
    "#뭔가 했는데 이상하게 됨... 리스트 안에 리스트의 값을 바꾸는 방법 못찾음! \n",
    "# for i in range(len(df_list)): \n",
    "#     date_replace = datetime.strptime(df_list[i][2], '%Y.%m.%d')\n",
    "#     date_replace = date_replace.strftime('%b/%d/%Y')\n",
    "#     temp = df_list[i][2].replace(df_list[i][2], date_replace)\n",
    "#     df_list.append(temp)"
   ]
  },
  {
   "cell_type": "code",
   "execution_count": 114,
   "metadata": {},
   "outputs": [],
   "source": [
    "#2번째 시도!! : 데이터 프레임의 칼럼 값을 전부 replace! \n",
    "asis_date = []\n",
    "tobe_date = []\n",
    "for i in range(len(df_list)): \n",
    "    asis_date.append(df_list[i][2])\n",
    "    date_trans = datetime.strptime(df_list[i][2], '%Y.%m.%d')\n",
    "    tobe_date.append(date_trans.strftime('%b/%d/%Y'))"
   ]
  },
  {
   "cell_type": "code",
   "execution_count": 115,
   "metadata": {},
   "outputs": [
    {
     "data": {
      "text/html": [
       "<div>\n",
       "<style scoped>\n",
       "    .dataframe tbody tr th:only-of-type {\n",
       "        vertical-align: middle;\n",
       "    }\n",
       "\n",
       "    .dataframe tbody tr th {\n",
       "        vertical-align: top;\n",
       "    }\n",
       "\n",
       "    .dataframe thead tr th {\n",
       "        text-align: left;\n",
       "    }\n",
       "</style>\n",
       "<table border=\"1\" class=\"dataframe\">\n",
       "  <thead>\n",
       "    <tr>\n",
       "      <th></th>\n",
       "      <th>제목</th>\n",
       "      <th>정보제공</th>\n",
       "      <th>날짜</th>\n",
       "    </tr>\n",
       "  </thead>\n",
       "  <tbody>\n",
       "    <tr>\n",
       "      <th>0</th>\n",
       "      <td>현대제철(주) 주주명부폐쇄기간 또는 기준일 설정</td>\n",
       "      <td>KOSCOM</td>\n",
       "      <td>Dec/16/2021</td>\n",
       "    </tr>\n",
       "    <tr>\n",
       "      <th>1</th>\n",
       "      <td>현대제철(주) 기업설명회(IR) 개최(안내공시)</td>\n",
       "      <td>KOSCOM</td>\n",
       "      <td>Nov/30/2021</td>\n",
       "    </tr>\n",
       "    <tr>\n",
       "      <th>2</th>\n",
       "      <td>현대제철(주) 기업설명회(IR) 개최(안내공시)</td>\n",
       "      <td>KOSCOM</td>\n",
       "      <td>Nov/05/2021</td>\n",
       "    </tr>\n",
       "    <tr>\n",
       "      <th>3</th>\n",
       "      <td>현대제철(주) 영업(잠정)실적(공정공시)</td>\n",
       "      <td>KOSCOM</td>\n",
       "      <td>Oct/28/2021</td>\n",
       "    </tr>\n",
       "    <tr>\n",
       "      <th>4</th>\n",
       "      <td>현대제철(주) 연결재무제표기준영업(잠정)실적(공정공시)</td>\n",
       "      <td>KOSCOM</td>\n",
       "      <td>Oct/28/2021</td>\n",
       "    </tr>\n",
       "    <tr>\n",
       "      <th>5</th>\n",
       "      <td>현대제철(주) 생산중단</td>\n",
       "      <td>KOSCOM</td>\n",
       "      <td>Oct/20/2021</td>\n",
       "    </tr>\n",
       "    <tr>\n",
       "      <th>6</th>\n",
       "      <td>현대제철(주) 기업설명회(IR) 개최(안내공시)</td>\n",
       "      <td>KOSCOM</td>\n",
       "      <td>Oct/19/2021</td>\n",
       "    </tr>\n",
       "    <tr>\n",
       "      <th>7</th>\n",
       "      <td>현대제철(주) 기업설명회(IR) 개최(안내공시)</td>\n",
       "      <td>KOSCOM</td>\n",
       "      <td>Oct/19/2021</td>\n",
       "    </tr>\n",
       "    <tr>\n",
       "      <th>8</th>\n",
       "      <td>현대제철(주) 기업설명회(IR) 개최(안내공시)</td>\n",
       "      <td>KOSCOM</td>\n",
       "      <td>Sep/02/2021</td>\n",
       "    </tr>\n",
       "    <tr>\n",
       "      <th>9</th>\n",
       "      <td>현대제철(주) 기업설명회(IR) 개최(안내공시)</td>\n",
       "      <td>KOSCOM</td>\n",
       "      <td>Aug/10/2021</td>\n",
       "    </tr>\n",
       "  </tbody>\n",
       "</table>\n",
       "</div>"
      ],
      "text/plain": [
       "                               제목    정보제공           날짜\n",
       "0      현대제철(주) 주주명부폐쇄기간 또는 기준일 설정  KOSCOM  Dec/16/2021\n",
       "1      현대제철(주) 기업설명회(IR) 개최(안내공시)  KOSCOM  Nov/30/2021\n",
       "2      현대제철(주) 기업설명회(IR) 개최(안내공시)  KOSCOM  Nov/05/2021\n",
       "3          현대제철(주) 영업(잠정)실적(공정공시)  KOSCOM  Oct/28/2021\n",
       "4  현대제철(주) 연결재무제표기준영업(잠정)실적(공정공시)  KOSCOM  Oct/28/2021\n",
       "5                    현대제철(주) 생산중단  KOSCOM  Oct/20/2021\n",
       "6      현대제철(주) 기업설명회(IR) 개최(안내공시)  KOSCOM  Oct/19/2021\n",
       "7      현대제철(주) 기업설명회(IR) 개최(안내공시)  KOSCOM  Oct/19/2021\n",
       "8      현대제철(주) 기업설명회(IR) 개최(안내공시)  KOSCOM  Sep/02/2021\n",
       "9      현대제철(주) 기업설명회(IR) 개최(안내공시)  KOSCOM  Aug/10/2021"
      ]
     },
     "execution_count": 115,
     "metadata": {},
     "output_type": "execute_result"
    }
   ],
   "source": [
    "df.replace(asis_date, tobe_date)"
   ]
  },
  {
   "cell_type": "code",
   "execution_count": null,
   "metadata": {},
   "outputs": [],
   "source": []
  }
 ],
 "metadata": {
  "kernelspec": {
   "display_name": "Python 3",
   "language": "python",
   "name": "python3"
  },
  "language_info": {
   "codemirror_mode": {
    "name": "ipython",
    "version": 3
   },
   "file_extension": ".py",
   "mimetype": "text/x-python",
   "name": "python",
   "nbconvert_exporter": "python",
   "pygments_lexer": "ipython3",
   "version": "3.7.9"
  }
 },
 "nbformat": 4,
 "nbformat_minor": 4
}
