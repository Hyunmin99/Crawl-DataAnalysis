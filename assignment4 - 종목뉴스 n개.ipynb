{
 "cells": [
  {
   "cell_type": "code",
   "execution_count": 18,
   "metadata": {},
   "outputs": [],
   "source": [
    "#종목 뉴스 n개 크롤링 + 데이터 프레임 저장 \n",
    "from bs4 import BeautifulSoup\n",
    "from datetime import date, timedelta, datetime\n",
    "from fake_useragent import UserAgent\n",
    "import requests\n",
    "import pandas as pd"
   ]
  },
  {
   "cell_type": "code",
   "execution_count": 19,
   "metadata": {},
   "outputs": [],
   "source": [
    "#페이지 리스트로 추가\n",
    "page = []\n",
    "page.append('https://finance.naver.com/item/news_read.naver?article_id=0004689310&office_id=008&code=004020&page=&sm=title_entity_id.basic')\n",
    "page.append('https://finance.naver.com/item/news_read.naver?article_id=0005115605&office_id=018&code=004020&page=&sm=title_entity_id.basic')\n",
    "page.append('https://finance.naver.com/item/news_read.naver?article_id=0001929823&office_id=016&code=004020&page=&sm=title_entity_id.basic')"
   ]
  },
  {
   "cell_type": "code",
   "execution_count": 20,
   "metadata": {},
   "outputs": [],
   "source": [
    "article_list = []"
   ]
  },
  {
   "cell_type": "code",
   "execution_count": 22,
   "metadata": {},
   "outputs": [],
   "source": [
    "for page_link in page:\n",
    "    article_detail = []\n",
    "    #random user agent + crawling\n",
    "    headers = {'User-Agent':UserAgent().random}\n",
    "    src_soup = BeautifulSoup(requests.get(page_link, headers=headers).text, 'lxml')\n",
    "    hist_soup = src_soup.find('table', attrs={'class':'view'})\n",
    "    article_detail.append(hist_soup.find('strong', attrs={'class':'c p15'}).text) #제목\n",
    "    div_span = hist_soup.find('span', attrs={'class':'gray03'}).text #신문사, 날짜 분리\n",
    "    article_detail.append(div_span[:div_span.find(' ')]) #신문사 넣기\n",
    "    article_detail.append(div_span[(div_span.find(' ')+2):]) #날짜 넣기\n",
    "    article_contents = hist_soup.find('div',attrs={'class':'scr01'}).text\n",
    "    article_detail.append(article_contents[:article_contents.find(article_detail[1]+' 관련뉴스해당')-1].replace('\\n','')) #기사 넣기\n",
    "    article_list.append(article_detail)"
   ]
  },
  {
   "cell_type": "code",
   "execution_count": 23,
   "metadata": {},
   "outputs": [
    {
     "data": {
      "text/plain": [
       "[[\"현대제철-현대비앤지스틸 '스테인리스 사업' 일원화\",\n",
       "  '머니투데이',\n",
       "  '2021.12.29 09:03',\n",
       "  '현대제철이 현대비앤지스틸로 스테인리스 사업을 일원화해 시장 경쟁력을 높인다는 전략이다. 현대제철은 28일 이사회를 열고 자회사인 현대비앤지스틸에 스테인리스 사업부의 매출채권·재고자산 등을 양도하기로 결정했다고 29일 밝혔다. 양도가액은 1224억9200만원이다. 그동안 두 회사는 각각 스테인리스 구매·영업 등을 별도로 운영해왔다. 현대제철은 인천 스테인리스 공장의 생산체제를 유지하고, 판매영업·소재구매 등을 현대비앤지스틸이 맡게 된다. 현대제철은 \"사업 경쟁력 강화를 위해 중복 구조를 일원화하고 효율성을 제고하기 위함\"이라면서 \"생산·고용 등은 변화가 없을 것\"이라 설명했다.'],\n",
       " ['현대제철, 현대비앤지스틸로 스테인리스 사업 창구 합친다(종합)',\n",
       "  '이데일리',\n",
       "  '2021.12.28 17:05',\n",
       "  '매출채권 등 자산 1225억원에 양도소재 구매 등 비앤지스틸로 일원화\"스테인리스 사업 경쟁력 강화 기대\"[이데일리 경계영 기자] 현대제철이 현대비앤지스틸로 스테인리스 사업을 일원화해 스테인리스 사업의 경쟁력을 강화한다. 현대제철(004020)은 현대비앤지스틸(004560)에 스테인리스 사업부의 매출채권과 재고자산 등을 1225억원에 양도하기로 했다고 28일 공시했다. 매출채권, 재고자산 등을 양도하는 거래로 생산·고용 상태엔 변동이 없다고 현대제철은 설명했다. 이번 양도로 운전자본 회수에 따른 재무구조 개선이 기대된다. 이제 현대비앤지스틸이 스테인리스의 소재 구매와 영업, 관리, 투자 등을 주력으로 맡는다. 지금까지 현대제철과 현대비앤지스틸은 스테인리스를 만들 때 스테인리스용 열연강판을 각자 구매해 스테인리스 냉연강판을 만들었지만 구매 등을 일원화한다. 이번 일원화는 현대제철이 지난해부터 추진한 수익성 중심의 사업 구조 재편 가운데 하나로 풀이된다. 현대제철은 지난해 대표 적자 사업이었던 단조사업부문을 떼어내 현대IFC를 신설했으며 컬러강판 사업 중단, 열연 전기로 폐쇄 등도 추진했다. 올해 역시 ‘수익성 중심의 견고한 철강사’를 경영 방침으로 세우고 수익성 개선에 힘써왔다. 현대제철은 한 해 생산하는 스테인리스 규모가 10만t 남짓으로 전체 매출액에서 차지하는 비중이 미미한 데 비해 현대비앤지스틸은 스테인리스 냉연강판 제조사로 스테인리스 사업에서 경쟁 우위에 있다. 실제 국내 스테인리스 시장 내 점유율도 현대비앤지스틸이 27%였고, 현대제철이 8%가량에 그쳤다. 현대제철 관계자는 “스테인리스 사업은 단순 압연·범용재 생산으로 지난 10년 동안 수익성 정체 현상을 지속했다”며 “스테인리스 사업부문을 일원화함으로써 시장 경쟁력을 높일 필요가 있었다”고 말했다. (사진=현대비앤지스틸'],\n",
       " ['현대제철, ‘웹어워드 코리아 2021’ 통합대상 수상',\n",
       "  '헤럴드경제',\n",
       "  '2021.12.27 15:52',\n",
       "  'PC웹 고객서비스·모바일웹 서비스부문 공공서비스 대상디지털 통합보고서 혁신 인정…“가독성 높이고 차별화 중점”[현대제철 제공][헤럴드경제=정찬수 기자] 현대제철이 ‘웹어워드 코리아 2021’에서 ‘현대제철 통합보고서 ‘비욘드 스틸(Beyond Steel)’이 PC웹 고객서비스 부문 통합대상과 모바일웹 서비스부문 공공서비스 대상을 수상했다고 27일 밝혔다.‘웹어워드 코리아’는 한국인터넷전문가협회(KIPEA)가 주최하고, 과학기술정보통신부 산하 한국인터넷진흥원이 후원하는 대한민국 웹 이노베이션대상 시상식이다.현대제철의 디지털 통합보고서 ‘비욘드 스틸’은 가독성을 높이고 차별화에 중점을 둔 이해관계자 중심의 웹사이트 구축과 운영으로 우수성을 인정받았다.올해 처음으로 웹 기반 형태로 제작한 ‘비욘드 스틸’은 기기에 따라 웹페이지의 크기가 자동으로 조정되는 ‘반응형 웹’으로 구현했다. 모든 디지털 기기에서 편리하게 접속할 수 있어 현대제철의 ESG(환경·사회·지배구조) 활동을 비롯한 여러 현황을 손쉽게 확인할 수 있는 것이 특징이다.현대제철 관계자는 “PC와 모바일 분야에서 동시에 수상했다는 점에서 의미가 크다”며 “현대제철의 지속가능경영을 대외적으로 보여주는 사이트인 만큼 통합보고서의 서비스를 개발해 차별성을 강화할 것”이라고 말했다.한편 ‘웹어워드 코리아’는 국내 대표 인터넷 전문가 4000여 명으로 구성된 웹어워드 평가위원단이 비주얼 디자인, UI 디자인, 기술, 콘텐츠, 마케팅 등의 측면에서 가장 혁신적이고 우수한 서비스들을 시상하는 행사다. 이번 대회에는 총 13개 부문 74개 분야에 총 437개의 웹사이트가 경쟁했다']]"
      ]
     },
     "execution_count": 23,
     "metadata": {},
     "output_type": "execute_result"
    }
   ],
   "source": [
    "article_list"
   ]
  },
  {
   "cell_type": "code",
   "execution_count": 24,
   "metadata": {},
   "outputs": [],
   "source": [
    "df = pd.DataFrame(article_list, columns = ['제목', '신문사', '날짜', '기사'])"
   ]
  },
  {
   "cell_type": "code",
   "execution_count": 25,
   "metadata": {},
   "outputs": [
    {
     "data": {
      "text/html": [
       "<div>\n",
       "<style scoped>\n",
       "    .dataframe tbody tr th:only-of-type {\n",
       "        vertical-align: middle;\n",
       "    }\n",
       "\n",
       "    .dataframe tbody tr th {\n",
       "        vertical-align: top;\n",
       "    }\n",
       "\n",
       "    .dataframe thead th {\n",
       "        text-align: right;\n",
       "    }\n",
       "</style>\n",
       "<table border=\"1\" class=\"dataframe\">\n",
       "  <thead>\n",
       "    <tr style=\"text-align: right;\">\n",
       "      <th></th>\n",
       "      <th>제목</th>\n",
       "      <th>신문사</th>\n",
       "      <th>날짜</th>\n",
       "      <th>기사</th>\n",
       "    </tr>\n",
       "  </thead>\n",
       "  <tbody>\n",
       "    <tr>\n",
       "      <th>0</th>\n",
       "      <td>현대제철-현대비앤지스틸 '스테인리스 사업' 일원화</td>\n",
       "      <td>머니투데이</td>\n",
       "      <td>2021.12.29 09:03</td>\n",
       "      <td>현대제철이 현대비앤지스틸로 스테인리스 사업을 일원화해 시장 경쟁력을 높인다는 전략이...</td>\n",
       "    </tr>\n",
       "    <tr>\n",
       "      <th>1</th>\n",
       "      <td>현대제철, 현대비앤지스틸로 스테인리스 사업 창구 합친다(종합)</td>\n",
       "      <td>이데일리</td>\n",
       "      <td>2021.12.28 17:05</td>\n",
       "      <td>매출채권 등 자산 1225억원에 양도소재 구매 등 비앤지스틸로 일원화\"스테인리스 사...</td>\n",
       "    </tr>\n",
       "    <tr>\n",
       "      <th>2</th>\n",
       "      <td>현대제철, ‘웹어워드 코리아 2021’ 통합대상 수상</td>\n",
       "      <td>헤럴드경제</td>\n",
       "      <td>2021.12.27 15:52</td>\n",
       "      <td>PC웹 고객서비스·모바일웹 서비스부문 공공서비스 대상디지털 통합보고서 혁신 인정…“...</td>\n",
       "    </tr>\n",
       "  </tbody>\n",
       "</table>\n",
       "</div>"
      ],
      "text/plain": [
       "                                   제목    신문사                날짜  \\\n",
       "0         현대제철-현대비앤지스틸 '스테인리스 사업' 일원화  머니투데이  2021.12.29 09:03   \n",
       "1  현대제철, 현대비앤지스틸로 스테인리스 사업 창구 합친다(종합)   이데일리  2021.12.28 17:05   \n",
       "2       현대제철, ‘웹어워드 코리아 2021’ 통합대상 수상  헤럴드경제  2021.12.27 15:52   \n",
       "\n",
       "                                                  기사  \n",
       "0  현대제철이 현대비앤지스틸로 스테인리스 사업을 일원화해 시장 경쟁력을 높인다는 전략이...  \n",
       "1  매출채권 등 자산 1225억원에 양도소재 구매 등 비앤지스틸로 일원화\"스테인리스 사...  \n",
       "2  PC웹 고객서비스·모바일웹 서비스부문 공공서비스 대상디지털 통합보고서 혁신 인정…“...  "
      ]
     },
     "execution_count": 25,
     "metadata": {},
     "output_type": "execute_result"
    }
   ],
   "source": [
    "df"
   ]
  },
  {
   "cell_type": "code",
   "execution_count": 32,
   "metadata": {},
   "outputs": [],
   "source": [
    "df.to_csv(\"assignment4_save.csv\")"
   ]
  },
  {
   "cell_type": "code",
   "execution_count": null,
   "metadata": {},
   "outputs": [],
   "source": []
  }
 ],
 "metadata": {
  "kernelspec": {
   "display_name": "Python 3",
   "language": "python",
   "name": "python3"
  },
  "language_info": {
   "codemirror_mode": {
    "name": "ipython",
    "version": 3
   },
   "file_extension": ".py",
   "mimetype": "text/x-python",
   "name": "python",
   "nbconvert_exporter": "python",
   "pygments_lexer": "ipython3",
   "version": "3.7.9"
  }
 },
 "nbformat": 4,
 "nbformat_minor": 4
}
