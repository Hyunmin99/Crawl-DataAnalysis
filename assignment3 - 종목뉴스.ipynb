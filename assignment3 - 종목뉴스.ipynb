{
 "cells": [
  {
   "cell_type": "code",
   "execution_count": 120,
   "metadata": {},
   "outputs": [],
   "source": [
    "#종목 뉴스 1개 크롤링 + 데이터 프레임 저장 \n",
    "from bs4 import BeautifulSoup\n",
    "from datetime import date, timedelta, datetime\n",
    "from fake_useragent import UserAgent\n",
    "import requests\n",
    "import pandas as pd"
   ]
  },
  {
   "cell_type": "code",
   "execution_count": 145,
   "metadata": {},
   "outputs": [],
   "source": [
    "page = 'https://finance.naver.com/item/news_read.naver?article_id=0004689310&office_id=008&code=004020&page=&sm=title_entity_id.basic'\n",
    "headers = {'User-Agent':UserAgent().random}\n",
    "src_soup = BeautifulSoup(requests.get(page, headers=headers).text, 'lxml')\n",
    "hist_soup = src_soup.find('table', attrs={'class':'view'})"
   ]
  },
  {
   "cell_type": "code",
   "execution_count": 146,
   "metadata": {
    "scrolled": true
   },
   "outputs": [],
   "source": [
    "tr_find = hist_soup.find_all('tr')"
   ]
  },
  {
   "cell_type": "code",
   "execution_count": 147,
   "metadata": {},
   "outputs": [],
   "source": [
    "article_list = []"
   ]
  },
  {
   "cell_type": "code",
   "execution_count": 148,
   "metadata": {},
   "outputs": [],
   "source": [
    "#hist_soup.find('span',attrs={'class':'gray03'}).text.split()\n",
    "# -> ['머니투데이', '2021.12.29', '09:03']"
   ]
  },
  {
   "cell_type": "code",
   "execution_count": 149,
   "metadata": {},
   "outputs": [],
   "source": [
    "article_detail = []\n",
    "article_detail.append(tr_find[0].find('th').text) #제목 넣기\n",
    "div_span = tr_find[1].find('span').text #신문사, 날짜 분리\n",
    "# article_detail.append(  )\n",
    "# article_detail\n",
    "article_detail.append(div_span[:div_span.find(' ')]) #신문사 넣기\n",
    "article_detail.append(div_span[(div_span.find(' ')+2):]) #날짜 넣기\n",
    "tr_find[2] = tr_find[2].find('div',attrs={'class':'scr01'}).text\n",
    "article_detail.append(tr_find[2][:tr_find[2].find(article_detail[1])-1].replace('\\n',''))"
   ]
  },
  {
   "cell_type": "code",
   "execution_count": 156,
   "metadata": {},
   "outputs": [],
   "source": [
    "article_list.append(article_detail)"
   ]
  },
  {
   "cell_type": "code",
   "execution_count": 158,
   "metadata": {},
   "outputs": [],
   "source": [
    "df = pd.DataFrame(article_list, columns = ['제목', '신문사', '날짜', '기사'])"
   ]
  },
  {
   "cell_type": "code",
   "execution_count": 159,
   "metadata": {},
   "outputs": [
    {
     "data": {
      "text/html": [
       "<div>\n",
       "<style scoped>\n",
       "    .dataframe tbody tr th:only-of-type {\n",
       "        vertical-align: middle;\n",
       "    }\n",
       "\n",
       "    .dataframe tbody tr th {\n",
       "        vertical-align: top;\n",
       "    }\n",
       "\n",
       "    .dataframe thead th {\n",
       "        text-align: right;\n",
       "    }\n",
       "</style>\n",
       "<table border=\"1\" class=\"dataframe\">\n",
       "  <thead>\n",
       "    <tr style=\"text-align: right;\">\n",
       "      <th></th>\n",
       "      <th>제목</th>\n",
       "      <th>신문사</th>\n",
       "      <th>날짜</th>\n",
       "      <th>기사</th>\n",
       "    </tr>\n",
       "  </thead>\n",
       "  <tbody>\n",
       "    <tr>\n",
       "      <th>0</th>\n",
       "      <td>현대제철-현대비앤지스틸 '스테인리스 사업' 일원화</td>\n",
       "      <td>머니투데이</td>\n",
       "      <td>2021.12.29 09:03</td>\n",
       "      <td>현대제철이 현대비앤지스틸로 스테인리스 사업을 일원화해 시장 경쟁력을 높인다는 전략이...</td>\n",
       "    </tr>\n",
       "  </tbody>\n",
       "</table>\n",
       "</div>"
      ],
      "text/plain": [
       "                            제목    신문사                날짜  \\\n",
       "0  현대제철-현대비앤지스틸 '스테인리스 사업' 일원화  머니투데이  2021.12.29 09:03   \n",
       "\n",
       "                                                  기사  \n",
       "0  현대제철이 현대비앤지스틸로 스테인리스 사업을 일원화해 시장 경쟁력을 높인다는 전략이...  "
      ]
     },
     "execution_count": 159,
     "metadata": {},
     "output_type": "execute_result"
    }
   ],
   "source": [
    "df"
   ]
  },
  {
   "cell_type": "code",
   "execution_count": null,
   "metadata": {},
   "outputs": [],
   "source": []
  }
 ],
 "metadata": {
  "kernelspec": {
   "display_name": "Python 3",
   "language": "python",
   "name": "python3"
  },
  "language_info": {
   "codemirror_mode": {
    "name": "ipython",
    "version": 3
   },
   "file_extension": ".py",
   "mimetype": "text/x-python",
   "name": "python",
   "nbconvert_exporter": "python",
   "pygments_lexer": "ipython3",
   "version": "3.7.9"
  }
 },
 "nbformat": 4,
 "nbformat_minor": 4
}
