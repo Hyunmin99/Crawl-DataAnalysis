{
 "cells": [
  {
   "cell_type": "code",
   "execution_count": 18,
   "metadata": {},
   "outputs": [],
   "source": [
    "import pandas as pd\n",
    "import numpy as np\n",
    "import string\n",
    "import math\n",
    "import csv\n",
    "import re"
   ]
  },
  {
   "cell_type": "code",
   "execution_count": 4,
   "metadata": {},
   "outputs": [
    {
     "data": {
      "text/plain": [
       "(4713, 84)"
      ]
     },
     "execution_count": 4,
     "metadata": {},
     "output_type": "execute_result"
    }
   ],
   "source": [
    "#data = pd.read_csv('chatting_creat_2.csv', names = ['time', 'id', '#', 'username', '&', 'text'])\n",
    "data = pd.read_csv('chatting_creat_2.csv')\n",
    "data.shape"
   ]
  },
  {
   "cell_type": "code",
   "execution_count": 5,
   "metadata": {},
   "outputs": [],
   "source": [
    "data_list = data.values.tolist() #데이터 프레임 -> 리스트로 변환"
   ]
  },
  {
   "cell_type": "code",
   "execution_count": 6,
   "metadata": {},
   "outputs": [],
   "source": [
    "data_string = [] \n",
    "for idx, data in enumerate(data_list):\n",
    "    drop_nan = [x for x in data_list[idx] if pd.isnull(x) == False and x != 'nan'] #리스트 중 nan제거\n",
    "    data_join = (' '.join(drop_nan)) #리스트를 string으로 변환\n",
    "    data_string.append(data_join)"
   ]
  },
  {
   "cell_type": "code",
   "execution_count": 66,
   "metadata": {},
   "outputs": [],
   "source": [
    "sametime_chat = []\n",
    "for idx, data in enumerate(data_string):\n",
    "    time = data[:14] #time \n",
    "    sub_data = data[15:] #time 제외한 string\n",
    "    \n",
    "    split = re.split('[*]', sub_data) #*기준으로 split(동일한 시간에 입력된 채팅이 있는 경우 분리)\n",
    "\n",
    "    for idx, string in enumerate(split):\n",
    "        sub_list = []\n",
    "        sub_list.append(time) \n",
    "        sub_list = sub_list + re.split('[#&]',string) #'#'이나'&'를 기준으로 split(id, name, chat 분리) -> 채팅에 #이나 &이 있는 경우 나뉘어 들어감 ㅠㅠ \n",
    "        sametime_chat.append(sub_list)"
   ]
  },
  {
   "cell_type": "code",
   "execution_count": 67,
   "metadata": {},
   "outputs": [],
   "source": [
    "df = pd.DataFrame(sametime_chat, columns = ['Time', 'Chat_id', 'Name', 'Chat', 'Chat_2'])"
   ]
  },
  {
   "cell_type": "code",
   "execution_count": 68,
   "metadata": {
    "scrolled": false
   },
   "outputs": [
    {
     "data": {
      "text/html": [
       "<div>\n",
       "<style scoped>\n",
       "    .dataframe tbody tr th:only-of-type {\n",
       "        vertical-align: middle;\n",
       "    }\n",
       "\n",
       "    .dataframe tbody tr th {\n",
       "        vertical-align: top;\n",
       "    }\n",
       "\n",
       "    .dataframe thead th {\n",
       "        text-align: right;\n",
       "    }\n",
       "</style>\n",
       "<table border=\"1\" class=\"dataframe\">\n",
       "  <thead>\n",
       "    <tr style=\"text-align: right;\">\n",
       "      <th></th>\n",
       "      <th>Time</th>\n",
       "      <th>Chat_id</th>\n",
       "      <th>Name</th>\n",
       "      <th>Chat</th>\n",
       "      <th>Chat_2</th>\n",
       "    </tr>\n",
       "  </thead>\n",
       "  <tbody>\n",
       "    <tr>\n",
       "      <th>0</th>\n",
       "      <td>12/31 21:43:53</td>\n",
       "      <td>42806a63-9bbb-4f66-a43c-4968f0407e4a</td>\n",
       "      <td>식데렐라</td>\n",
       "      <td>읽을 지는 모르겠지만 우여곡절이었ㄷ던</td>\n",
       "      <td>None</td>\n",
       "    </tr>\n",
       "    <tr>\n",
       "      <th>1</th>\n",
       "      <td>12/31 21:43:35</td>\n",
       "      <td>3651826d-3ba8-40c0-b339-d3b028be41d3</td>\n",
       "      <td>LazyPanda</td>\n",
       "      <td>best 2 hours of 2021</td>\n",
       "      <td>None</td>\n",
       "    </tr>\n",
       "    <tr>\n",
       "      <th>2</th>\n",
       "      <td>12/31 21:43:15</td>\n",
       "      <td>3dd78978-3307-44fb-aff7-f4fa214be7a3</td>\n",
       "      <td>청순보미</td>\n",
       "      <td>앵콩</td>\n",
       "      <td>None</td>\n",
       "    </tr>\n",
       "    <tr>\n",
       "      <th>3</th>\n",
       "      <td>12/31 21:43:11</td>\n",
       "      <td>85937055-7d2c-4881-9c37-bc6e073bc6d3</td>\n",
       "      <td>무라여신</td>\n",
       "      <td>가지마제발</td>\n",
       "      <td>None</td>\n",
       "    </tr>\n",
       "    <tr>\n",
       "      <th>4</th>\n",
       "      <td>12/31 21:43:07</td>\n",
       "      <td>85937055-7d2c-4881-9c37-bc6e073bc6d3</td>\n",
       "      <td>무라여신</td>\n",
       "      <td>가지마요</td>\n",
       "      <td>None</td>\n",
       "    </tr>\n",
       "    <tr>\n",
       "      <th>...</th>\n",
       "      <td>...</td>\n",
       "      <td>...</td>\n",
       "      <td>...</td>\n",
       "      <td>...</td>\n",
       "      <td>...</td>\n",
       "    </tr>\n",
       "    <tr>\n",
       "      <th>6981</th>\n",
       "      <td>12/31 18:00:25</td>\n",
       "      <td>10bc5cd3-a296-4a23-bb74-8d660e7d4767</td>\n",
       "      <td>세진</td>\n",
       "      <td>냐</td>\n",
       "      <td>None</td>\n",
       "    </tr>\n",
       "    <tr>\n",
       "      <th>6982</th>\n",
       "      <td>12/31 18:00:21</td>\n",
       "      <td>02cded4d-6886-41eb-b53d-a25ba293411d</td>\n",
       "      <td>몽키빠나나</td>\n",
       "      <td>1등</td>\n",
       "      <td>None</td>\n",
       "    </tr>\n",
       "    <tr>\n",
       "      <th>6983</th>\n",
       "      <td>12/31 18:00:19</td>\n",
       "      <td>67b28a9c-1dd6-4aff-a797-35d00590a1ac</td>\n",
       "      <td>전판다</td>\n",
       "      <td>0</td>\n",
       "      <td>None</td>\n",
       "    </tr>\n",
       "    <tr>\n",
       "      <th>6984</th>\n",
       "      <td>12/31 18:00:17</td>\n",
       "      <td>7f7796c4-ea87-491b-bec1-e148fb977193</td>\n",
       "      <td>여름PANDA</td>\n",
       "      <td>안녕하세요</td>\n",
       "      <td>None</td>\n",
       "    </tr>\n",
       "    <tr>\n",
       "      <th>6985</th>\n",
       "      <td>12/31 18:00:13</td>\n",
       "      <td>10bc5cd3-a296-4a23-bb74-8d660e7d4767</td>\n",
       "      <td>세진</td>\n",
       "      <td>와!</td>\n",
       "      <td>None</td>\n",
       "    </tr>\n",
       "  </tbody>\n",
       "</table>\n",
       "<p>6986 rows × 5 columns</p>\n",
       "</div>"
      ],
      "text/plain": [
       "                Time                                 Chat_id         Name  \\\n",
       "0     12/31 21:43:53   42806a63-9bbb-4f66-a43c-4968f0407e4a         식데렐라    \n",
       "1     12/31 21:43:35   3651826d-3ba8-40c0-b339-d3b028be41d3    LazyPanda    \n",
       "2     12/31 21:43:15   3dd78978-3307-44fb-aff7-f4fa214be7a3         청순보미    \n",
       "3     12/31 21:43:11   85937055-7d2c-4881-9c37-bc6e073bc6d3         무라여신    \n",
       "4     12/31 21:43:07   85937055-7d2c-4881-9c37-bc6e073bc6d3         무라여신    \n",
       "...              ...                                     ...          ...   \n",
       "6981  12/31 18:00:25   10bc5cd3-a296-4a23-bb74-8d660e7d4767           세진    \n",
       "6982  12/31 18:00:21   02cded4d-6886-41eb-b53d-a25ba293411d        몽키빠나나    \n",
       "6983  12/31 18:00:19   67b28a9c-1dd6-4aff-a797-35d00590a1ac          전판다    \n",
       "6984  12/31 18:00:17   7f7796c4-ea87-491b-bec1-e148fb977193      여름PANDA    \n",
       "6985  12/31 18:00:13   10bc5cd3-a296-4a23-bb74-8d660e7d4767           세진    \n",
       "\n",
       "                       Chat Chat_2  \n",
       "0      읽을 지는 모르겠지만 우여곡절이었ㄷ던   None  \n",
       "1      best 2 hours of 2021   None  \n",
       "2                        앵콩   None  \n",
       "3                     가지마제발   None  \n",
       "4                      가지마요   None  \n",
       "...                     ...    ...  \n",
       "6981                      냐   None  \n",
       "6982                     1등   None  \n",
       "6983                      0   None  \n",
       "6984                  안녕하세요   None  \n",
       "6985                     와!   None  \n",
       "\n",
       "[6986 rows x 5 columns]"
      ]
     },
     "execution_count": 68,
     "metadata": {},
     "output_type": "execute_result"
    }
   ],
   "source": [
    "df"
   ]
  },
  {
   "cell_type": "code",
   "execution_count": 69,
   "metadata": {},
   "outputs": [],
   "source": [
    "df.to_csv(\"test.csv\", encoding=\"utf-8-sig\")"
   ]
  }
 ],
 "metadata": {
  "kernelspec": {
   "display_name": "Python 3",
   "language": "python",
   "name": "python3"
  },
  "language_info": {
   "codemirror_mode": {
    "name": "ipython",
    "version": 3
   },
   "file_extension": ".py",
   "mimetype": "text/x-python",
   "name": "python",
   "nbconvert_exporter": "python",
   "pygments_lexer": "ipython3",
   "version": "3.7.9"
  }
 },
 "nbformat": 4,
 "nbformat_minor": 4
}
